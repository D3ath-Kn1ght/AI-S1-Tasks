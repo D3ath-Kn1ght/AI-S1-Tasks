{
 "cells": [
  {
   "cell_type": "markdown",
   "metadata": {},
   "source": [
    "Importing Numpy"
   ]
  },
  {
   "cell_type": "code",
   "execution_count": 1,
   "metadata": {},
   "outputs": [],
   "source": [
    "import numpy as np"
   ]
  },
  {
   "cell_type": "markdown",
   "metadata": {},
   "source": [
    "Arrays"
   ]
  },
  {
   "cell_type": "code",
   "execution_count": 46,
   "metadata": {},
   "outputs": [
    {
     "name": "stdout",
     "output_type": "stream",
     "text": [
      "[1 2 3]\n",
      "[[1 2 3]\n",
      " [3 4 5]]\n",
      "[[[ 1  2  3]\n",
      "  [ 4  5  6]]\n",
      "\n",
      " [[ 7  8  9]\n",
      "  [10 11 12]]]\n",
      "[[0 1 2]\n",
      " [3 4 5]\n",
      " [6 7 8]]\n"
     ]
    }
   ],
   "source": [
    "# One Dimensional Array\n",
    "t=np.array([1,2,3])\n",
    "print(t)\n",
    "# Two Dimensional Array\n",
    "t=np.array([(1,2,3),(3,4,5)])\n",
    "print(t)\n",
    "#Three Dimensional Array\n",
    "t= np.array([\n",
    "    [[1, 2,3],\n",
    "        [4, 5, 6]],\n",
    "    [[7, 8,9],\n",
    "        [10, 11, 12]]\n",
    "])\n",
    "print(t)"
   ]
  },
  {
   "cell_type": "markdown",
   "metadata": {},
   "source": [
    "Matrices"
   ]
  },
  {
   "cell_type": "code",
   "execution_count": null,
   "metadata": {},
   "outputs": [],
   "source": [
    "#Null Matrix or Zero Matrix\n",
    "t=np.zeros((4,5))\n",
    "print(t)\n",
    "#Ones Matrix\n",
    "t=np.ones((5,6))\n",
    "print(t)\n",
    "#Unit Matrix\n",
    "t=np.eye(4)\n",
    "print(t)\n",
    "#Diagonal Matrix\n",
    "t=np.diag([1,2,3,4])\n",
    "print(t)"
   ]
  },
  {
   "cell_type": "markdown",
   "metadata": {},
   "source": [
    "Random Numbers"
   ]
  },
  {
   "cell_type": "code",
   "execution_count": 48,
   "metadata": {},
   "outputs": [
    {
     "name": "stdout",
     "output_type": "stream",
     "text": [
      "[14  7  7  1]\n",
      "[0.6688613  0.7655694  1.05388115 0.99853315]\n",
      "79\n",
      "79\n",
      "0.8707323061773764\n"
     ]
    }
   ],
   "source": [
    "#To get Random Integer values in a Range\n",
    "t=np.random.randint(1,15,4)\n",
    "print(t)\n",
    "#To get Random Values with deviation\n",
    "t=np.random.normal(1,0.2,4)\n",
    "print(t)\n",
    "#To get same Value using Random by making Use of Seed COmmand\n",
    "np.random.seed(5)\n",
    "t=np.random.randint(1,100) #random integer gets stored in t which is in between 1 and 100\n",
    "np.random.seed(5)          #Since same seed Value of 5 is used here as Above\n",
    "x=np.random.randint(1,100) #Same integer is stored in x as in t\n",
    "print(t)\n",
    "print(x)\n",
    "#To get a Random Number between 0 and 1\n",
    "t=np.random.rand()\n",
    "print(t)"
   ]
  },
  {
   "cell_type": "markdown",
   "metadata": {},
   "source": [
    "Arange and Reshape Functions"
   ]
  },
  {
   "cell_type": "code",
   "execution_count": 3,
   "metadata": {},
   "outputs": [
    {
     "name": "stdout",
     "output_type": "stream",
     "text": [
      "[[0 1 2]\n",
      " [3 4 5]\n",
      " [6 7 8]]\n"
     ]
    }
   ],
   "source": [
    "t=np.arange(0,9).reshape(3,3)\n",
    "#Here arange(0,9) stores the values from 0 to 8\n",
    "#Reshape(3,3) changes the array into a 3x3 matrix\n",
    "print(t)"
   ]
  },
  {
   "cell_type": "markdown",
   "metadata": {},
   "source": [
    "Size and Shape Functions"
   ]
  },
  {
   "cell_type": "code",
   "execution_count": 50,
   "metadata": {},
   "outputs": [
    {
     "name": "stdout",
     "output_type": "stream",
     "text": [
      "9\n",
      "(3, 3)\n"
     ]
    }
   ],
   "source": [
    "t=np.arange(0,9).reshape(3,3)\n",
    "print(t.size)#shows the number of elements in t\n",
    "print(t.shape)#shows the shape of t"
   ]
  },
  {
   "cell_type": "markdown",
   "metadata": {},
   "source": [
    "LinSpace and LogSpace Functions"
   ]
  },
  {
   "cell_type": "code",
   "execution_count": 63,
   "metadata": {},
   "outputs": [
    {
     "data": {
      "text/plain": [
       "array([ 1.        ,  1.47368421,  1.94736842,  2.42105263,  2.89473684,\n",
       "        3.36842105,  3.84210526,  4.31578947,  4.78947368,  5.26315789,\n",
       "        5.73684211,  6.21052632,  6.68421053,  7.15789474,  7.63157895,\n",
       "        8.10526316,  8.57894737,  9.05263158,  9.52631579, 10.        ])"
      ]
     },
     "execution_count": 63,
     "metadata": {},
     "output_type": "execute_result"
    }
   ],
   "source": [
    "np.linspace(1,10,num=20)"
   ]
  },
  {
   "cell_type": "code",
   "execution_count": 64,
   "metadata": {},
   "outputs": [
    {
     "data": {
      "text/plain": [
       "array([1.00000000e+01, 6.30957344e+01, 3.98107171e+02, 2.51188643e+03,\n",
       "       1.58489319e+04])"
      ]
     },
     "execution_count": 64,
     "metadata": {},
     "output_type": "execute_result"
    }
   ],
   "source": [
    "np.logspace(1,5,num=5,endpoint=False)"
   ]
  },
  {
   "cell_type": "markdown",
   "metadata": {},
   "source": [
    "Dot Product"
   ]
  },
  {
   "cell_type": "code",
   "execution_count": 66,
   "metadata": {},
   "outputs": [
    {
     "name": "stdout",
     "output_type": "stream",
     "text": [
      "11\n"
     ]
    }
   ],
   "source": [
    "t=np.array([1,2])\n",
    "s=np.array([3,4])\n",
    "print(np.dot(t,s))#Multiplies Elements with Corresponding index and adds the product to find sum"
   ]
  },
  {
   "cell_type": "markdown",
   "metadata": {},
   "source": [
    "Concatenate"
   ]
  },
  {
   "cell_type": "code",
   "execution_count": 71,
   "metadata": {},
   "outputs": [
    {
     "name": "stdout",
     "output_type": "stream",
     "text": [
      "[[1 2]\n",
      " [3 4]\n",
      " [4 5]]\n"
     ]
    }
   ],
   "source": [
    "t=np.array([[1,2],[3,4]])\n",
    "s=np.array([[4,5]])\n",
    "z=np.concatenate((t,s))\n",
    "print(z)"
   ]
  },
  {
   "cell_type": "markdown",
   "metadata": {},
   "source": [
    "Fix and Rint Functions"
   ]
  },
  {
   "cell_type": "code",
   "execution_count": 81,
   "metadata": {},
   "outputs": [
    {
     "name": "stdout",
     "output_type": "stream",
     "text": [
      "[0. 1. 1. 1. 9.]\n",
      "[ 0.  2.  1.  1. 10.]\n"
     ]
    }
   ],
   "source": [
    "#Fix Rounds off the number to nearest Integer towards Zero\n",
    "t=[0.23,1.59,1.2,1.26,9.99]\n",
    "print(np.fix(t))\n",
    "#Rint Rounds off the number to nearest integer\n",
    "print(np.rint(t))"
   ]
  },
  {
   "cell_type": "markdown",
   "metadata": {},
   "source": [
    "Sort and Transpose Function"
   ]
  },
  {
   "cell_type": "code",
   "execution_count": 82,
   "metadata": {},
   "outputs": [
    {
     "name": "stdout",
     "output_type": "stream",
     "text": [
      "[[2 5 6]\n",
      " [1 8 9]]\n",
      "[[5 9]\n",
      " [6 8]\n",
      " [2 1]]\n"
     ]
    }
   ],
   "source": [
    "#Sorts each element in ascending order\n",
    "t=np.array([[5,6,2],[9,8,1]])\n",
    "print(np.sort(t))\n",
    "#Interchanges the Row and Column positions of the Elements\n",
    "print(np.transpose(t))"
   ]
  },
  {
   "cell_type": "markdown",
   "metadata": {},
   "source": [
    "Append Function"
   ]
  },
  {
   "cell_type": "code",
   "execution_count": 4,
   "metadata": {},
   "outputs": [
    {
     "name": "stdout",
     "output_type": "stream",
     "text": [
      "[[5. 6. 2.]\n",
      " [9. 8. 1.]]\n",
      "[5 6 2 9 8 1 1 2 3]\n"
     ]
    }
   ],
   "source": [
    "t=np.array([[5,6,2],[9,8,1]])\n",
    "print(np.rint(t))\n",
    "t=np.append(t,[1,2,3])\n",
    "print(t)"
   ]
  },
  {
   "cell_type": "markdown",
   "metadata": {},
   "source": [
    "Stack Functions"
   ]
  },
  {
   "cell_type": "code",
   "execution_count": 86,
   "metadata": {},
   "outputs": [
    {
     "name": "stdout",
     "output_type": "stream",
     "text": [
      "[1 2 3 4 5 6]\n",
      "[[1 2 3]\n",
      " [4 5 6]]\n"
     ]
    }
   ],
   "source": [
    "t=np.array([1,2,3])\n",
    "s=np.array([4,5,6])\n",
    "#Horizontal Stack\n",
    "print(np.hstack([t,s]))\n",
    "#Vertical Stack\n",
    "print(np.vstack([t,s]))"
   ]
  },
  {
   "cell_type": "markdown",
   "metadata": {},
   "source": [
    "where function"
   ]
  },
  {
   "cell_type": "code",
   "execution_count": 99,
   "metadata": {},
   "outputs": [
    {
     "name": "stdout",
     "output_type": "stream",
     "text": [
      "[ 5  2  5 14  5 16 22  5 20  5  5]\n",
      "(array([1, 3, 5, 6, 8], dtype=int64),)\n"
     ]
    }
   ],
   "source": [
    "t=np.array([1,2,13,14,55,16,22,17,20,13,19])\n",
    "s=np.where(t%2==1,5,t)#Replaces all odd numbers as 5 by finding the indices using where\n",
    "print(s)\n",
    "print(np.where(t%2==0))#returns the index of the elements which are even"
   ]
  },
  {
   "cell_type": "markdown",
   "metadata": {},
   "source": [
    "Common Terms in Two arrays"
   ]
  },
  {
   "cell_type": "code",
   "execution_count": 92,
   "metadata": {},
   "outputs": [
    {
     "name": "stdout",
     "output_type": "stream",
     "text": [
      "[1 4 6 8]\n"
     ]
    }
   ],
   "source": [
    "t=np.arange(10)\n",
    "s=np.array([1,13,4,6,8,20,56])\n",
    "print(np.intersect1d(t,s))"
   ]
  },
  {
   "cell_type": "markdown",
   "metadata": {},
   "source": [
    "Removing Elements of one array from another"
   ]
  },
  {
   "cell_type": "code",
   "execution_count": 95,
   "metadata": {},
   "outputs": [
    {
     "name": "stdout",
     "output_type": "stream",
     "text": [
      "[0 2 3 5 7 9]\n",
      "[13 20 56]\n"
     ]
    }
   ],
   "source": [
    "t=np.arange(10)\n",
    "s=np.array([1,13,4,6,8,20,56])\n",
    "print(np.setdiff1d(t,s))\n",
    "print(np.setdiff1d(s,t))"
   ]
  },
  {
   "cell_type": "markdown",
   "metadata": {},
   "source": [
    "Swapping Columns in a Two Dimensional Array"
   ]
  },
  {
   "cell_type": "code",
   "execution_count": 105,
   "metadata": {},
   "outputs": [
    {
     "name": "stdout",
     "output_type": "stream",
     "text": [
      "[[0 1 2]\n",
      " [3 4 5]\n",
      " [6 7 8]]\n",
      "[[1 0 2]\n",
      " [4 3 5]\n",
      " [7 6 8]]\n"
     ]
    }
   ],
   "source": [
    "t=np.arange(0,9).reshape(3,3)\n",
    "print(t)\n",
    "t=t[:,[1,0,2]]\n",
    "print(t)"
   ]
  },
  {
   "cell_type": "markdown",
   "metadata": {},
   "source": [
    "Swapping Rows in a Two Dimensional Array"
   ]
  },
  {
   "cell_type": "code",
   "execution_count": 106,
   "metadata": {},
   "outputs": [
    {
     "name": "stdout",
     "output_type": "stream",
     "text": [
      "[[0 1 2]\n",
      " [3 4 5]\n",
      " [6 7 8]]\n",
      "[[3 4 5]\n",
      " [0 1 2]\n",
      " [6 7 8]]\n"
     ]
    }
   ],
   "source": [
    "t=np.arange(0,9).reshape(3,3)\n",
    "print(t)\n",
    "t=t[[1,0,2],:]\n",
    "print(t)"
   ]
  },
  {
   "cell_type": "markdown",
   "metadata": {},
   "source": [
    "e[r,c]\n",
    "e[2]"
   ]
  },
  {
   "cell_type": "markdown",
   "metadata": {},
   "source": [
    "Reversing Rows/Columns in a Matrix"
   ]
  },
  {
   "cell_type": "code",
   "execution_count": 110,
   "metadata": {},
   "outputs": [
    {
     "name": "stdout",
     "output_type": "stream",
     "text": [
      "[[0 1 2]\n",
      " [3 4 5]\n",
      " [6 7 8]]\n",
      "Matrix with Reversed Rows\n",
      "[[6 7 8]\n",
      " [3 4 5]\n",
      " [0 1 2]]\n",
      "Matrix with reversed Columns\n",
      "[[2 1 0]\n",
      " [5 4 3]\n",
      " [8 7 6]]\n"
     ]
    }
   ],
   "source": [
    "#Reversing Rows\n",
    "t=np.arange(0,9).reshape(3,3)\n",
    "print(t)\n",
    "print(\"Matrix with Reversed Rows\")\n",
    "print(t[::-1])\n",
    "#Reversing Columns\n",
    "t=t[:,::-1]\n",
    "print(\"Matrix with reversed Columns\")\n",
    "print(t)"
   ]
  },
  {
   "cell_type": "markdown",
   "metadata": {},
   "source": [
    "Using Print Options Commands"
   ]
  },
  {
   "cell_type": "code",
   "execution_count": 207,
   "metadata": {},
   "outputs": [
    {
     "name": "stdout",
     "output_type": "stream",
     "text": [
      "[6.017 4.993 4.975 5.203 4.477]\n",
      "[1.484e-05 1.484e-05 1.473e-05]\n",
      "[15.867 14.624 16.045 ... 15.015 14.681 14.912]\n"
     ]
    }
   ],
   "source": [
    "#Specifying the number of decimal Places\n",
    "t=np.random.normal(5,0.5,5)\n",
    "np.set_printoptions(precision=3)#precision=3 specifies only 3 decimal places\n",
    "print(t)\n",
    "\n",
    "#Giving Output Using Scientific Notations\n",
    "np.set_printoptions(suppress=False)#Setting printoptions to default\n",
    "t=np.random.normal(15,0.2,3)/1e6\n",
    "print(t)\n",
    "\n",
    "#Limiting The Number of Elements Printed\n",
    "np.set_printoptions(suppress=False)\n",
    "np.set_printoptions(threshold=3)\n",
    "t=np.random.normal(15,0.6,9)\n",
    "print(t)"
   ]
  },
  {
   "cell_type": "code",
   "execution_count": 9,
   "metadata": {},
   "outputs": [
    {
     "name": "stdout",
     "output_type": "stream",
     "text": [
      "[ 3 10]\n"
     ]
    }
   ],
   "source": [
    "import numpy as np\n",
    "a = np.array([[1,2,3,4,5,6,7],[8,9,10,11,12,13,14]])\n",
    "p=a[0, :]\n",
    "print(p)"
   ]
  },
  {
   "cell_type": "code",
   "execution_count": 10,
   "metadata": {},
   "outputs": [
    {
     "name": "stdout",
     "output_type": "stream",
     "text": [
      "[ 3 10]\n"
     ]
    }
   ],
   "source": [
    "import numpy as np\n",
    "a = np.array([[1,2,3,4,5,6,7],[8,9,10,11,12,13,14]])\n",
    "p=a[:,2]\n",
    "print(p)"
   ]
  },
  {
   "cell_type": "code",
   "execution_count": 19,
   "metadata": {},
   "outputs": [
    {
     "name": "stdout",
     "output_type": "stream",
     "text": [
      "hin\n"
     ]
    }
   ],
   "source": [
    "t=input()\n",
    "rev=t[3::1]\n",
    "print(rev)"
   ]
  }
 ],
 "metadata": {
  "interpreter": {
   "hash": "e9976b7622a2c6379c11c758da67b4e7c521900e0bfdfe8a175d8baf898b61e1"
  },
  "kernelspec": {
   "display_name": "Python 3.10.0 64-bit",
   "name": "python3"
  },
  "language_info": {
   "codemirror_mode": {
    "name": "ipython",
    "version": 3
   },
   "file_extension": ".py",
   "mimetype": "text/x-python",
   "name": "python",
   "nbconvert_exporter": "python",
   "pygments_lexer": "ipython3",
   "version": "3.10.0"
  },
  "orig_nbformat": 4
 },
 "nbformat": 4,
 "nbformat_minor": 2
}
